{
 "cells": [
  {
   "cell_type": "markdown",
   "id": "6d5224d9-ee4a-4cf8-a407-a298076ec79a",
   "metadata": {},
   "source": [
    "feb2_aasigntment\n"
   ]
  },
  {
   "cell_type": "markdown",
   "id": "2276a3a0-e13d-47ce-bf7b-78066f01b711",
   "metadata": {},
   "source": [
    "q1)\n",
    "for loop: for loop is used when we already know how many times we would repeat the task or process.\n",
    "while loop: while loop is used when we don't know the no. of iteraton\n",
    "however we can use both the loop iterchangbly."
   ]
  },
  {
   "cell_type": "code",
   "execution_count": null,
   "id": "44553c8f-772c-452a-b915-a6289fe81a40",
   "metadata": {},
   "outputs": [],
   "source": [
    "#user  can't enter wrong atm pin more than 3\n",
    "enter_pin=int(input(\"enter the atm pin\"))\n",
    "enter_balance=int(input(\"enter amount\"))\n",
    "for i in range(0,4):\n",
    "    pin=int(input(\"enter your existing pin\"))\n",
    "    if(enter_pin==pin):\n",
    "        print(\"enter your choice\\n1.withdraw\\n2.check balance\")\n",
    "        choice=int(input('enter your choice'))\n",
    "        if(choice==1 or choice=='withdraw'):\n",
    "            enter_amount=int(input(\"enter the amount you want to withdraw\"))\n",
    "            if(enter_amount<=enter_balance):\n",
    "                print('you have sucessfully withdraw the money\\n',enter_amount,'\\nyou current balance is : ',enter_balance-enter_amount)\n",
    "            else:\n",
    "                print(\"insufficient amount\")\n",
    "        elif(choice==2 or choice=='check_balance'):\n",
    "            print('your balance is : ',enter_balance)\n",
    "        else:\n",
    "            print('enter valid input')\n",
    "    else:\n",
    "        print(\"wrong atm pin\")\n",
    "                \n",
    "        "
   ]
  },
  {
   "cell_type": "code",
   "execution_count": null,
   "id": "b4fc05c2-f00e-4dee-9500-0fdbbf592159",
   "metadata": {},
   "outputs": [
    {
     "name": "stdin",
     "output_type": "stream",
     "text": [
      "enter the no1 55\n",
      "enter the second number 77\n",
      "enter the operation you want to perform\n",
      "1.Add\n",
      "2.Sub\n",
      "3.div\n",
      "4.mul 1\n"
     ]
    }
   ],
   "source": [
    "num1=int(input(\"enter the no1\"))\n",
    "num2=int(input(\"enter the second number\"))\n",
    "while(True):\n",
    "    choice=input(\"enter the operation you want to perform\\n1.Add\\n2.Sub\\n3.div\\n4.mul\")\n",
    "    if(choice==1 or choice==\"Add\"):\n",
    "        print(\"sum\",num1+num2)\n",
    "    elif(choice==2 or choice==\"sub\"):\n",
    "        print(\"subtraction\",num1-num2)\n",
    "    elif(choice==3 or choice==\"div\"):\n",
    "        print(\"division\",num1/num2)\n",
    "    elif(choice==4 or choice==\"mul\"):\n",
    "        print(\"multiply\",num1*num2)\n",
    "    # else:\n",
    "    #     print(\"select valid choice\")\n",
    "    "
   ]
  },
  {
   "cell_type": "code",
   "execution_count": 3,
   "id": "3dc266cb-168e-41c0-843e-96cabae82b59",
   "metadata": {},
   "outputs": [
    {
     "name": "stdin",
     "output_type": "stream",
     "text": [
      "enter the no1 12\n",
      "enter the second number 12\n",
      "enter the operation you want to perform\n",
      "1.Add\n",
      "2.Sub\n",
      "3.div\n",
      "4.mul\n",
      "5.exit 5\n"
     ]
    },
    {
     "name": "stdout",
     "output_type": "stream",
     "text": [
      "your operation is completed\n"
     ]
    }
   ],
   "source": [
    "num1=int(input(\"enter the no1\"))\n",
    "num2=int(input(\"enter the second number\"))\n",
    "while(True):\n",
    "    choice=input(\"enter the operation you want to perform\\n1.Add\\n2.Sub\\n3.div\\n4.mul\\n5.exit\")\n",
    "    if(choice==\"1\" or choice==\"Add\"):\n",
    "        print(\"sum\",num1+num2)\n",
    "    elif(choice=='2' or choice==\"sub\"):\n",
    "        print(\"subtraction\",num1-num2)\n",
    "    elif(choice=='3' or choice==\"div\"):\n",
    "        print(\"division\",num1/num2)\n",
    "    elif(choice=='4' or choice==\"mul\"):\n",
    "        print(\"multiply\",num1*num2)\n",
    "    elif(choice==\"5\" or choice==\"exit\"):\n",
    "        print(\"your operation is completed\")\n",
    "        break;\n",
    "    else:\n",
    "        print(\"select valid choice\")\n",
    "    "
   ]
  },
  {
   "cell_type": "code",
   "execution_count": 4,
   "id": "c43d5e0c-93e8-4001-bfc6-94990fce2298",
   "metadata": {},
   "outputs": [],
   "source": [
    "#q3 commppute electricity bill"
   ]
  },
  {
   "cell_type": "code",
   "execution_count": 23,
   "id": "e149a75f-7b92-4a3f-be86-91080ac50d8d",
   "metadata": {},
   "outputs": [
    {
     "ename": "KeyboardInterrupt",
     "evalue": "Interrupted by user",
     "output_type": "error",
     "traceback": [
      "\u001b[0;31m---------------------------------------------------------------------------\u001b[0m",
      "\u001b[0;31mKeyboardInterrupt\u001b[0m                         Traceback (most recent call last)",
      "Cell \u001b[0;32mIn[23], line 1\u001b[0m\n\u001b[0;32m----> 1\u001b[0m unit\u001b[38;5;241m=\u001b[39m\u001b[38;5;28mint\u001b[39m(\u001b[38;5;28;43minput\u001b[39;49m\u001b[43m(\u001b[49m\u001b[38;5;124;43m\"\u001b[39;49m\u001b[38;5;124;43menter the unit consumed in a month\u001b[39;49m\u001b[38;5;124;43m\"\u001b[39;49m\u001b[43m)\u001b[49m)\n\u001b[1;32m      2\u001b[0m \u001b[38;5;28;01mif\u001b[39;00m(unit\u001b[38;5;241m>\u001b[39m\u001b[38;5;241m0\u001b[39m \u001b[38;5;129;01mand\u001b[39;00m unit\u001b[38;5;241m<\u001b[39m\u001b[38;5;241m=\u001b[39m\u001b[38;5;241m100\u001b[39m):\n\u001b[1;32m      3\u001b[0m     rs\u001b[38;5;241m=\u001b[39munit\u001b[38;5;241m*\u001b[39m\u001b[38;5;241m4.5\u001b[39m\n",
      "File \u001b[0;32m/opt/conda/lib/python3.10/site-packages/ipykernel/kernelbase.py:1175\u001b[0m, in \u001b[0;36mKernel.raw_input\u001b[0;34m(self, prompt)\u001b[0m\n\u001b[1;32m   1171\u001b[0m \u001b[38;5;28;01mif\u001b[39;00m \u001b[38;5;129;01mnot\u001b[39;00m \u001b[38;5;28mself\u001b[39m\u001b[38;5;241m.\u001b[39m_allow_stdin:\n\u001b[1;32m   1172\u001b[0m     \u001b[38;5;28;01mraise\u001b[39;00m StdinNotImplementedError(\n\u001b[1;32m   1173\u001b[0m         \u001b[38;5;124m\"\u001b[39m\u001b[38;5;124mraw_input was called, but this frontend does not support input requests.\u001b[39m\u001b[38;5;124m\"\u001b[39m\n\u001b[1;32m   1174\u001b[0m     )\n\u001b[0;32m-> 1175\u001b[0m \u001b[38;5;28;01mreturn\u001b[39;00m \u001b[38;5;28;43mself\u001b[39;49m\u001b[38;5;241;43m.\u001b[39;49m\u001b[43m_input_request\u001b[49m\u001b[43m(\u001b[49m\n\u001b[1;32m   1176\u001b[0m \u001b[43m    \u001b[49m\u001b[38;5;28;43mstr\u001b[39;49m\u001b[43m(\u001b[49m\u001b[43mprompt\u001b[49m\u001b[43m)\u001b[49m\u001b[43m,\u001b[49m\n\u001b[1;32m   1177\u001b[0m \u001b[43m    \u001b[49m\u001b[38;5;28;43mself\u001b[39;49m\u001b[38;5;241;43m.\u001b[39;49m\u001b[43m_parent_ident\u001b[49m\u001b[43m[\u001b[49m\u001b[38;5;124;43m\"\u001b[39;49m\u001b[38;5;124;43mshell\u001b[39;49m\u001b[38;5;124;43m\"\u001b[39;49m\u001b[43m]\u001b[49m\u001b[43m,\u001b[49m\n\u001b[1;32m   1178\u001b[0m \u001b[43m    \u001b[49m\u001b[38;5;28;43mself\u001b[39;49m\u001b[38;5;241;43m.\u001b[39;49m\u001b[43mget_parent\u001b[49m\u001b[43m(\u001b[49m\u001b[38;5;124;43m\"\u001b[39;49m\u001b[38;5;124;43mshell\u001b[39;49m\u001b[38;5;124;43m\"\u001b[39;49m\u001b[43m)\u001b[49m\u001b[43m,\u001b[49m\n\u001b[1;32m   1179\u001b[0m \u001b[43m    \u001b[49m\u001b[43mpassword\u001b[49m\u001b[38;5;241;43m=\u001b[39;49m\u001b[38;5;28;43;01mFalse\u001b[39;49;00m\u001b[43m,\u001b[49m\n\u001b[1;32m   1180\u001b[0m \u001b[43m\u001b[49m\u001b[43m)\u001b[49m\n",
      "File \u001b[0;32m/opt/conda/lib/python3.10/site-packages/ipykernel/kernelbase.py:1217\u001b[0m, in \u001b[0;36mKernel._input_request\u001b[0;34m(self, prompt, ident, parent, password)\u001b[0m\n\u001b[1;32m   1214\u001b[0m             \u001b[38;5;28;01mbreak\u001b[39;00m\n\u001b[1;32m   1215\u001b[0m \u001b[38;5;28;01mexcept\u001b[39;00m \u001b[38;5;167;01mKeyboardInterrupt\u001b[39;00m:\n\u001b[1;32m   1216\u001b[0m     \u001b[38;5;66;03m# re-raise KeyboardInterrupt, to truncate traceback\u001b[39;00m\n\u001b[0;32m-> 1217\u001b[0m     \u001b[38;5;28;01mraise\u001b[39;00m \u001b[38;5;167;01mKeyboardInterrupt\u001b[39;00m(\u001b[38;5;124m\"\u001b[39m\u001b[38;5;124mInterrupted by user\u001b[39m\u001b[38;5;124m\"\u001b[39m) \u001b[38;5;28;01mfrom\u001b[39;00m \u001b[38;5;28mNone\u001b[39m\n\u001b[1;32m   1218\u001b[0m \u001b[38;5;28;01mexcept\u001b[39;00m \u001b[38;5;167;01mException\u001b[39;00m:\n\u001b[1;32m   1219\u001b[0m     \u001b[38;5;28mself\u001b[39m\u001b[38;5;241m.\u001b[39mlog\u001b[38;5;241m.\u001b[39mwarning(\u001b[38;5;124m\"\u001b[39m\u001b[38;5;124mInvalid Message:\u001b[39m\u001b[38;5;124m\"\u001b[39m, exc_info\u001b[38;5;241m=\u001b[39m\u001b[38;5;28;01mTrue\u001b[39;00m)\n",
      "\u001b[0;31mKeyboardInterrupt\u001b[0m: Interrupted by user"
     ]
    }
   ],
   "source": [
    "unit=int(input(\"enter the unit consumed in a month\"))\n",
    "if(unit>0 and unit<=100):\n",
    "    rs=unit*4.5\n",
    "    print(\"bill\",rs)\n",
    "elif(unit>100 and unit<=200):\n",
    "    rs=100*4.5+(unit-100)*6\n",
    "    print('bill',rs)\n",
    "elif(unit>200 and unit<=300):\n",
    "    re=unit-200\n",
    "    print(re)\n",
    "    rs=100*4.5+100*6+re*10\n",
    "    print(rs)\n",
    "elif(unit>300):\n",
    "    \n",
    "    rs=100*4.5+100*6+100*10+(unit-300)*20\n",
    "    print(rs)\n",
    "      \n",
    "    \n"
   ]
  },
  {
   "cell_type": "code",
   "execution_count": null,
   "id": "d5fb1e7b-6c4f-4fba-a42d-176b86b511c5",
   "metadata": {},
   "outputs": [],
   "source": [
    "#q4 create list and append the element divisble by 4 or 5"
   ]
  },
  {
   "cell_type": "code",
   "execution_count": 32,
   "id": "e6aef434-aba9-4e49-9dd0-dccbe473109a",
   "metadata": {},
   "outputs": [
    {
     "name": "stdout",
     "output_type": "stream",
     "text": [
      "[4, 5, 8, 10, 12, 15, 16, 20, 24, 25, 28, 30, 32, 35, 36, 40, 44, 45, 48, 50, 52, 55, 56, 60, 64, 65, 68, 70, 72, 75, 76, 80, 84, 85, 88, 90, 92, 95, 96, 100]\n"
     ]
    }
   ],
   "source": [
    "l=[]\n",
    "l1=[]\n",
    "for i  in range(1,101):\n",
    "    l.append(i*i*i)\n",
    "    if(i%4==0 or i%5==0):\n",
    "        l1.append(i)\n",
    "print(l1)\n"
   ]
  },
  {
   "cell_type": "code",
   "execution_count": 33,
   "id": "6e2b0a0d-11c4-4c21-aa04-aa7901bc9238",
   "metadata": {},
   "outputs": [],
   "source": [
    "#q5 string count vowels"
   ]
  },
  {
   "cell_type": "code",
   "execution_count": 48,
   "id": "92fedd1e-af11-4fe7-bf55-fe7542c5f531",
   "metadata": {},
   "outputs": [
    {
     "name": "stdout",
     "output_type": "stream",
     "text": [
      "12\n"
     ]
    }
   ],
   "source": [
    "string=\"I want to become a data scientist\"\n",
    "count=0\n",
    "for i in range(0,len(string)):\n",
    "    a=string[i]\n",
    "    if(a=='a' or a=='A' or a=='e' or a=='E' or a=='I' or a=='i' or a=='o' or a=='O' or a=='u' or a=='U'):\n",
    "        count=count+1\n",
    "print(count)\n",
    "\n",
    "        "
   ]
  },
  {
   "cell_type": "code",
   "execution_count": null,
   "id": "7498a377-d317-4df7-8601-17b3a6bbc048",
   "metadata": {},
   "outputs": [],
   "source": []
  }
 ],
 "metadata": {
  "kernelspec": {
   "display_name": "Python 3 (ipykernel)",
   "language": "python",
   "name": "python3"
  },
  "language_info": {
   "codemirror_mode": {
    "name": "ipython",
    "version": 3
   },
   "file_extension": ".py",
   "mimetype": "text/x-python",
   "name": "python",
   "nbconvert_exporter": "python",
   "pygments_lexer": "ipython3",
   "version": "3.10.8"
  }
 },
 "nbformat": 4,
 "nbformat_minor": 5
}
